{
 "cells": [
  {
   "cell_type": "markdown",
   "source": [
    "# Getting Started: Reading files, importing data\n",
    "Use the `quakers_nodelist.csv` and `quakers_edgelist.csv` files and store the contents within them"
   ],
   "metadata": {
    "collapsed": false
   }
  },
  {
   "cell_type": "code",
   "execution_count": 16,
   "metadata": {
    "collapsed": true
   },
   "outputs": [],
   "source": [
    "import csv\n",
    "from operator import itemgetter\n",
    "import networkx as nx\n",
    "from networkx.algorithms import community # This part of networkx, for community detection, needs to be imported separately."
   ]
  },
  {
   "cell_type": "code",
   "execution_count": 6,
   "outputs": [
    {
     "name": "stdout",
     "output_type": "stream",
     "text": [
      "Number of Nodes: 119\n",
      "Number of Edges: 174\n"
     ]
    }
   ],
   "source": [
    "with open('resources/quakers_nodelist.csv', 'r') as nodecsv:\n",
    "    nodereader = csv.reader(nodecsv)\n",
    "    # Retrieve the data (using Python list comphrension and list slicing to remove the header row)\n",
    "    nodes = [n for n in nodereader][1:]\n",
    "\n",
    "node_names = [n[0] for n in nodes]\n",
    "\n",
    "with open('resources/quakers_edgelist.csv', 'r') as edgecsv:\n",
    "    edgereader = csv.reader(edgecsv)\n",
    "    edges = [tuple(e) for e in edgereader][1:] # Retreive the data\n",
    "\n",
    "print(f'Number of Nodes: {len(node_names)}')\n",
    "print(f'Number of Edges: {len(edges)}')"
   ],
   "metadata": {
    "collapsed": false,
    "pycharm": {
     "name": "#%%\n"
    }
   }
  },
  {
   "cell_type": "markdown",
   "source": [
    "# Basics of NetworkX: Creating the Graph\n",
    "Use the above two lists to create a single network object that understands how nodes and edges are related."
   ],
   "metadata": {
    "collapsed": false,
    "pycharm": {
     "name": "#%% md\n"
    }
   }
  },
  {
   "cell_type": "code",
   "execution_count": 15,
   "outputs": [
    {
     "name": "stdout",
     "output_type": "stream",
     "text": [
      "Name: \n",
      "Type: Graph\n",
      "Number of nodes: 119\n",
      "Number of edges: 174\n",
      "Average degree:   2.9244\n"
     ]
    }
   ],
   "source": [
    "G = nx.Graph()\n",
    "\n",
    "G.add_nodes_from(node_names)\n",
    "G.add_edges_from(edges)\n",
    "\n",
    "print(nx.info(G))"
   ],
   "metadata": {
    "collapsed": false,
    "pycharm": {
     "name": "#%%\n"
    }
   }
  },
  {
   "cell_type": "markdown",
   "source": [
    "### Adding Attributes\n",
    "So far we have added nodes and edges, but NetworkX allows us to add *attributes* to both nodes and edges, providing more information about each of them. Attributes are a form of dictionaries, in which node names are the keys and the attributes you want to add are the values"
   ],
   "metadata": {
    "collapsed": false,
    "pycharm": {
     "name": "#%% md\n"
    }
   }
  },
  {
   "cell_type": "code",
   "execution_count": 9,
   "outputs": [],
   "source": [
    "hist_sig_dict = {}\n",
    "gender_dict = {}\n",
    "birth_dict = {}\n",
    "death_dict = {}\n",
    "id_dict = {}\n",
    "\n",
    "for node in nodes: # Loop through the list, one row at a time\n",
    "    #dictionary[id] = value\n",
    "    hist_sig_dict[node[0]] = node[1]\n",
    "    gender_dict[node[0]] = node[2]\n",
    "    birth_dict[node[0]] = node[3]\n",
    "    death_dict[node[0]] = node[4]\n",
    "    id_dict[node[0]] = node[5]"
   ],
   "metadata": {
    "collapsed": false,
    "pycharm": {
     "name": "#%%\n"
    }
   }
  },
  {
   "cell_type": "code",
   "execution_count": 10,
   "outputs": [],
   "source": [
    "nx.set_node_attributes(G, hist_sig_dict, 'historical_significance')\n",
    "nx.set_node_attributes(G, gender_dict, 'gender')\n",
    "nx.set_node_attributes(G, birth_dict, 'birth_year')\n",
    "nx.set_node_attributes(G, death_dict, 'death_year')\n",
    "nx.set_node_attributes(G, id_dict, 'sdfb_id')"
   ],
   "metadata": {
    "collapsed": false,
    "pycharm": {
     "name": "#%%\n"
    }
   }
  },
  {
   "cell_type": "markdown",
   "source": [
    "Now all of the nodes have these attributes associated to them. Can access them like an array (with the string as the identifier)"
   ],
   "metadata": {
    "collapsed": false,
    "pycharm": {
     "name": "#%% md\n"
    }
   }
  },
  {
   "cell_type": "code",
   "execution_count": 11,
   "outputs": [
    {
     "name": "stdout",
     "output_type": "stream",
     "text": [
      "Joseph Wyeth 1663\n",
      "Alexander Skene of Newtyle 1621\n",
      "James Logan 1674\n",
      "Dorcas Erbery 1656\n",
      "Lilias Skene 1626\n",
      "William Mucklow 1630\n",
      "Thomas Salthouse 1630\n",
      "William Dewsbury 1621\n",
      "John Audland 1630\n",
      "Richard Claridge 1649\n",
      "William Bradford 1663\n",
      "Fettiplace Bellers 1687\n",
      "John Bellers 1654\n",
      "Isabel Yeamans 1637\n",
      "George Fox the younger 1551\n",
      "George Fox 1624\n",
      "John Stubbs 1618\n",
      "Anne Camm 1627\n",
      "John Camm 1605\n",
      "Thomas Camm 1640\n",
      "Katharine Evans 1618\n",
      "Lydia Lancaster 1683\n",
      "Samuel Clarridge 1631\n",
      "Thomas Lower 1633\n",
      "Gervase Benson 1569\n",
      "Stephen Crisp 1628\n",
      "James Claypoole 1634\n",
      "Thomas Holme 1626\n",
      "John Freame 1665\n",
      "John Swinton 1620\n",
      "William Mead 1627\n",
      "Henry Pickworth 1673\n",
      "John Crook 1616\n",
      "Gilbert Latey 1626\n",
      "Ellis Hookes 1635\n",
      "Joseph Besse 1683\n",
      "James Nayler 1618\n",
      "Elizabeth Hooten 1562\n",
      "George Whitehead 1637\n",
      "John Whitehead 1630\n",
      "William Crouch 1628\n",
      "Benjamin Furly 1636\n",
      "Silvanus Bevan 1691\n",
      "Robert Rich 1607\n",
      "John Whiting 1656\n",
      "Christopher Taylor 1614\n",
      "Thomas Lawson 1630\n",
      "Richard Farnworth 1630\n",
      "William Coddington 1601\n",
      "Thomas Taylor 1617\n",
      "Richard Vickris 1590\n",
      "Robert Barclay 1648\n",
      "Jane Sowle 1631\n",
      "Tace Sowle 1666\n",
      "Leonard Fell 1624\n",
      "Margaret Fell 1614\n",
      "George Bishop 1558\n",
      "Elizabeth Leavens 1555\n",
      "Thomas Curtis 1602\n",
      "Alice Curwen 1619\n",
      "Alexander Parker 1628\n",
      "John Wilkinson 1652\n",
      "Thomas Aldam 1616\n",
      "David Barclay of Ury 1610\n",
      "David Barclay 1682\n",
      "Sir Charles Wager 1666\n",
      "George Keith 1638\n",
      "James Parnel 1636\n",
      "Peter Collinson 1694\n",
      "Franciscus Mercurius van Helmont 1614\n",
      "William Caton 1636\n",
      "Francis Howgill 1618\n",
      "Richard Hubberthorne 1628\n",
      "William Ames 1552\n",
      "William Rogers 1601\n",
      "Isaac Norris 1671\n",
      "Anthony Sharp 1643\n",
      "Mary Fisher 1623\n",
      "Anne Conway Viscountess Conway and Killultagh 1631\n",
      "Samuel Fisher 1604\n",
      "Francis Bugg 1640\n",
      "Sarah Gibbons 1634\n",
      "William Tomlinson 1650\n",
      "Humphrey Norton 1655\n",
      "William Gibson 1628\n",
      "Gideon Wanton 1693\n",
      "John Wanton 1672\n",
      "Grace Chamber 1676\n",
      "Mary Prince 1569\n",
      "John Bartram 1699\n",
      "Edward Haistwell 1658\n",
      "John ap John 1625\n",
      "John Rous 1585\n",
      "Anthony Pearson 1627\n",
      "Solomon Eccles 1617\n",
      "John Burnyeat 1631\n",
      "Edward Burrough 1633\n",
      "Rebecca Travers 1609\n",
      "William Edmundson 1627\n",
      "Sarah Cheevers 1608\n",
      "Edward Pyott 1560\n",
      "Daniel Quare 1648\n",
      "John Penington 1655\n",
      "Mary Penington 1623\n",
      "Charles Marshall 1637\n",
      "Humphrey Woolrich 1633\n",
      "William Penn 1644\n",
      "Mary Pennyman 1630\n",
      "Dorothy Waugh 1636\n",
      "David Lloyd 1656\n",
      "Lewis Morris 1671\n",
      "Martha Simmonds 1624\n",
      "John Story 1571\n",
      "Thomas Story 1670\n",
      "Thomas Ellwood 1639\n",
      "William Simpson 1627\n",
      "Samuel Bownas 1677\n",
      "John Perrot 1555\n",
      "Hannah Stranger 1656\n"
     ]
    }
   ],
   "source": [
    "for n in G.nodes():\n",
    "    print(n, G.nodes[n]['birth_year'])"
   ],
   "metadata": {
    "collapsed": false,
    "pycharm": {
     "name": "#%%\n"
    }
   }
  },
  {
   "cell_type": "markdown",
   "source": [
    "# Metrics available in NetworkX"
   ],
   "metadata": {
    "collapsed": false,
    "pycharm": {
     "name": "#%% md\n"
    }
   }
  },
  {
   "cell_type": "code",
   "execution_count": 18,
   "outputs": [
    {
     "name": "stdout",
     "output_type": "stream",
     "text": [
      "Network Density: 0.02478279447372169\n"
     ]
    }
   ],
   "source": [
    "density = nx.density(G)\n",
    "print(f'Network Density: {density}')"
   ],
   "metadata": {
    "collapsed": false,
    "pycharm": {
     "name": "#%%\n"
    }
   }
  },
  {
   "cell_type": "code",
   "execution_count": 20,
   "outputs": [
    {
     "name": "stdout",
     "output_type": "stream",
     "text": [
      "Shortest path between Fell and Whitehead: ['Margaret Fell', 'George Fox', 'George Whitehead']\n",
      "Length of that path: 3\n"
     ]
    }
   ],
   "source": [
    "fell_whitehead_path = nx.shortest_path(G, source='Margaret Fell', target='George Whitehead')\n",
    "print(f'Shortest path between Fell and Whitehead: {fell_whitehead_path}')\n",
    "print(f'Length of that path: {len(fell_whitehead_path)}')"
   ],
   "metadata": {
    "collapsed": false,
    "pycharm": {
     "name": "#%%\n"
    }
   }
  },
  {
   "cell_type": "code",
   "execution_count": 24,
   "outputs": [
    {
     "name": "stdout",
     "output_type": "stream",
     "text": [
      "False\n",
      "Network diameter of largest component: 8\n"
     ]
    }
   ],
   "source": [
    "# If your graph is more than one component, this will return False:\n",
    "print(nx.is_connected(G))\n",
    "\n",
    "# Next, use nx.connected_components to get the list of components,\n",
    "# then use the max() command to find the largest one\n",
    "components = nx.connected_components(G)\n",
    "largest_component = max(components, key=len)\n",
    "\n",
    "# Create a \"subgraph\" of just the largest component\n",
    "# Then calculate the diameter of the subgraph, just like you did with density\n",
    "\n",
    "subgraph = G.subgraph(largest_component)\n",
    "diameter = nx.diameter(subgraph)\n",
    "print(f'Network diameter of largest component: {diameter}')"
   ],
   "metadata": {
    "collapsed": false,
    "pycharm": {
     "name": "#%%\n"
    }
   }
  },
  {
   "cell_type": "markdown",
   "source": [
    "**Triadic Closure:** Supposes that if two people know the same person, they are likely to know each other. This creates a *triangle* in teh visualisation of three edge nodes.\n",
    "**Transitivity:** Structural network measure for measuring triadic closure. Expresses how interconnected a graph is in terms of a ratio of actual over possible connections. Concerns likelihoods rather than certainties.\n",
    "**Clustering Coefficient:** Another way of measuring triadic closure."
   ],
   "metadata": {
    "collapsed": false,
    "pycharm": {
     "name": "#%% md\n"
    }
   }
  },
  {
   "cell_type": "code",
   "execution_count": 25,
   "outputs": [
    {
     "name": "stdout",
     "output_type": "stream",
     "text": [
      "Triadic closure: 0.16937799043062202\n"
     ]
    }
   ],
   "source": [
    "triadic_closure = nx.transitivity(G)\n",
    "print(f'Triadic closure: {triadic_closure}')"
   ],
   "metadata": {
    "collapsed": false,
    "pycharm": {
     "name": "#%%\n"
    }
   }
  },
  {
   "cell_type": "markdown",
   "source": [
    "Because the graph is not very dense, there are fewer *possible triangles* to begin with, which may result in a slightly higher transitivity. That is, nodes that already have lots of connections are likely to be part of these enclosed triangles. To back this up, we need to know more about the nodes with many connections"
   ],
   "metadata": {
    "collapsed": false,
    "pycharm": {
     "name": "#%% md\n"
    }
   }
  },
  {
   "cell_type": "markdown",
   "source": [
    "# Centrality\n",
    "In network analysis, measures of the importance of nodes are referred to as centrality measures. Because there are many ways of approaching the question \"Which nodes are the most important?\" there are many ways of calculating centrality. The three most common centrality measures are: degree, betweenness centrality, and eigenvector centrality."
   ],
   "metadata": {
    "collapsed": false,
    "pycharm": {
     "name": "#%% md\n"
    }
   }
  },
  {
   "cell_type": "markdown",
   "source": [
    "### Degree\n",
    "Degree is the simplest and most common way of finding important nodes. A node's *degree* is the *sum of it's edges*. Hubs are the nodes which have the highest degree."
   ],
   "metadata": {
    "collapsed": false,
    "pycharm": {
     "name": "#%% md\n"
    }
   }
  },
  {
   "cell_type": "code",
   "execution_count": 28,
   "outputs": [
    {
     "name": "stdout",
     "output_type": "stream",
     "text": [
      "{'degree': 18}\n"
     ]
    }
   ],
   "source": [
    "degree_dict = dict(G.degree(G.nodes()))\n",
    "nx.set_node_attributes(G, degree_dict, 'degree')\n",
    "print(G.nodes['William Penn'])"
   ],
   "metadata": {
    "collapsed": false,
    "pycharm": {
     "name": "#%%\n"
    }
   }
  },
  {
   "cell_type": "code",
   "execution_count": 29,
   "outputs": [
    {
     "name": "stdout",
     "output_type": "stream",
     "text": [
      "Top 20 nodes by degree: \n",
      "('George Fox', 22)\n",
      "('William Penn', 18)\n",
      "('James Nayler', 16)\n",
      "('George Whitehead', 13)\n",
      "('Margaret Fell', 13)\n",
      "('Benjamin Furly', 10)\n",
      "('Edward Burrough', 9)\n",
      "('George Keith', 8)\n",
      "('Thomas Ellwood', 8)\n",
      "('Francis Howgill', 7)\n",
      "('John Perrot', 7)\n",
      "('John Audland', 6)\n",
      "('Richard Farnworth', 6)\n",
      "('Alexander Parker', 6)\n",
      "('John Story', 6)\n",
      "('John Stubbs', 5)\n",
      "('Thomas Curtis', 5)\n",
      "('John Wilkinson', 5)\n",
      "('William Caton', 5)\n",
      "('Anthony Pearson', 5)\n"
     ]
    }
   ],
   "source": [
    "sorted_degree = sorted(degree_dict.items(), key=itemgetter(1), reverse=True)\n",
    "\n",
    "print(\"Top 20 nodes by degree: \")\n",
    "for d in sorted_degree[:20]:\n",
    "    print(d)"
   ],
   "metadata": {
    "collapsed": false,
    "pycharm": {
     "name": "#%%\n"
    }
   }
  },
  {
   "cell_type": "markdown",
   "source": [
    "### Eigenvector Centrality\n",
    "Eigenvector centrality is a kind of extension degree - it looks at a combination of a node's edges and the edges of that node's neighbours. Calculated as a value from 0 to 1. Google uses an extension of this formula (PageRank algorithm) to decide which webpages get to the top of its search results.\n",
    "\n",
    "### Betweenness Centrality\n",
    "Betweenness centrality does not care about the number of edges any one node or set of nodes has. It looks at the shortest paths that pass through a particular node. To do this, it must first calculate every possibke shortest path in your network, so keep in mand it will take longer to calculate. It is also expressed on a scale of 0 to 1."
   ],
   "metadata": {
    "collapsed": false,
    "pycharm": {
     "name": "#%% md\n"
    }
   }
  },
  {
   "cell_type": "code",
   "execution_count": 31,
   "outputs": [],
   "source": [
    "betweenness_dict = nx.betweenness_centrality(G) # Run betweenness centrality\n",
    "eigenvector_dict = nx.eigenvector_centrality(G) # Run eigenvector centrality\n",
    "\n",
    "# Assign each to an attribute in your network\n",
    "nx.set_node_attributes(G, betweenness_dict, 'betweenness')\n",
    "nx.set_node_attributes(G, eigenvector_dict, 'eigenvector')"
   ],
   "metadata": {
    "collapsed": false,
    "pycharm": {
     "name": "#%%\n"
    }
   }
  },
  {
   "cell_type": "code",
   "execution_count": 32,
   "outputs": [
    {
     "name": "stdout",
     "output_type": "stream",
     "text": [
      "Top 20 nodes by betweenness centrality: \n",
      "('William Penn', 0.23999456006192205)\n",
      "('George Fox', 0.23683257726065216)\n",
      "('George Whitehead', 0.12632024847366005)\n",
      "('Margaret Fell', 0.12106792237170329)\n",
      "('James Nayler', 0.10446026280446098)\n",
      "('Benjamin Furly', 0.06419626175167242)\n",
      "('Thomas Ellwood', 0.046190623885104545)\n",
      "('George Keith', 0.045006564009171565)\n",
      "('John Audland', 0.04164936340077581)\n",
      "('Alexander Parker', 0.03893676140525336)\n",
      "('John Story', 0.028990098622866983)\n",
      "('John Burnyeat', 0.028974117533439564)\n",
      "('John Perrot', 0.02829566854990583)\n",
      "('James Logan', 0.026944806605823553)\n",
      "('Richard Claridge', 0.026944806605823553)\n",
      "('Robert Barclay', 0.026944806605823553)\n",
      "('Elizabeth Leavens', 0.026944806605823553)\n",
      "('Thomas Curtis', 0.026729751729751724)\n",
      "('John Stubbs', 0.024316593960227152)\n",
      "('Mary Penington', 0.02420824624214454)\n"
     ]
    }
   ],
   "source": [
    "sorted_betweenness = sorted(betweenness_dict.items(), key=itemgetter(1), reverse=True)\n",
    "\n",
    "print(\"Top 20 nodes by betweenness centrality: \")\n",
    "for b in sorted_betweenness[:20]:\n",
    "    print(b)"
   ],
   "metadata": {
    "collapsed": false,
    "pycharm": {
     "name": "#%%\n"
    }
   }
  },
  {
   "cell_type": "code",
   "execution_count": 33,
   "outputs": [
    {
     "name": "stdout",
     "output_type": "stream",
     "text": [
      "Name: William Penn | Betweenness Centrality: 0.23999456006192205 | Degree: 18\n",
      "Name: George Fox | Betweenness Centrality: 0.23683257726065216 | Degree: 22\n",
      "Name: George Whitehead | Betweenness Centrality: 0.12632024847366005 | Degree: 13\n",
      "Name: Margaret Fell | Betweenness Centrality: 0.12106792237170329 | Degree: 13\n",
      "Name: James Nayler | Betweenness Centrality: 0.10446026280446098 | Degree: 16\n",
      "Name: Benjamin Furly | Betweenness Centrality: 0.06419626175167242 | Degree: 10\n",
      "Name: Thomas Ellwood | Betweenness Centrality: 0.046190623885104545 | Degree: 8\n",
      "Name: George Keith | Betweenness Centrality: 0.045006564009171565 | Degree: 8\n",
      "Name: John Audland | Betweenness Centrality: 0.04164936340077581 | Degree: 6\n",
      "Name: Alexander Parker | Betweenness Centrality: 0.03893676140525336 | Degree: 6\n",
      "Name: John Story | Betweenness Centrality: 0.028990098622866983 | Degree: 6\n",
      "Name: John Burnyeat | Betweenness Centrality: 0.028974117533439564 | Degree: 4\n",
      "Name: John Perrot | Betweenness Centrality: 0.02829566854990583 | Degree: 7\n",
      "Name: James Logan | Betweenness Centrality: 0.026944806605823553 | Degree: 4\n",
      "Name: Richard Claridge | Betweenness Centrality: 0.026944806605823553 | Degree: 2\n",
      "Name: Robert Barclay | Betweenness Centrality: 0.026944806605823553 | Degree: 3\n",
      "Name: Elizabeth Leavens | Betweenness Centrality: 0.026944806605823553 | Degree: 2\n",
      "Name: Thomas Curtis | Betweenness Centrality: 0.026729751729751724 | Degree: 5\n",
      "Name: John Stubbs | Betweenness Centrality: 0.024316593960227152 | Degree: 5\n",
      "Name: Mary Penington | Betweenness Centrality: 0.02420824624214454 | Degree: 4\n"
     ]
    }
   ],
   "source": [
    "# First get the top 20 nodes by betweenness as a list\n",
    "top_betweenness = sorted_betweenness[:20]\n",
    "\n",
    "# Then find and print their degree\n",
    "for tb in top_betweenness: # Loop through top_betweenness\n",
    "    degree = degree_dict[tb[0]] # Use degree_dict to access a node's degree\n",
    "    print(f\"Name: {tb[0]} | Betweenness Centrality: {tb[1]} | Degree: {degree}\")"
   ],
   "metadata": {
    "collapsed": false,
    "pycharm": {
     "name": "#%%\n"
    }
   }
  }
 ],
 "metadata": {
  "kernelspec": {
   "display_name": "Python 3",
   "language": "python",
   "name": "python3"
  },
  "language_info": {
   "codemirror_mode": {
    "name": "ipython",
    "version": 2
   },
   "file_extension": ".py",
   "mimetype": "text/x-python",
   "name": "python",
   "nbconvert_exporter": "python",
   "pygments_lexer": "ipython2",
   "version": "2.7.6"
  }
 },
 "nbformat": 4,
 "nbformat_minor": 0
}