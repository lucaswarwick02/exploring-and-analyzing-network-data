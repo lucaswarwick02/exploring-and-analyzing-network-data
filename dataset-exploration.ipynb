{
 "cells": [
  {
   "cell_type": "code",
   "execution_count": 1,
   "metadata": {
    "collapsed": true
   },
   "outputs": [],
   "source": [
    "import pandas as pd"
   ]
  },
  {
   "cell_type": "code",
   "execution_count": null,
   "outputs": [],
   "source": [
    "# Node List"
   ],
   "metadata": {
    "collapsed": false,
    "pycharm": {
     "name": "#%%\n"
    }
   }
  },
  {
   "cell_type": "code",
   "execution_count": 2,
   "outputs": [
    {
     "data": {
      "text/plain": "                         Name        Historical Significance  Gender  \\\n0                Joseph Wyeth               religious writer    male   \n1  Alexander Skene of Newtyle    local politician and author    male   \n2                 James Logan  colonial official and scholar    male   \n3               Dorcas Erbery                Quaker preacher  female   \n4                Lilias Skene       Quaker preacher and poet    male   \n\n   Birthdate  Deathdate        ID  \n0       1663       1731  10013191  \n1       1621       1694  10011149  \n2       1674       1751  10007567  \n3       1656       1659  10003983  \n4       1626       1697  10011152  ",
      "text/html": "<div>\n<style scoped>\n    .dataframe tbody tr th:only-of-type {\n        vertical-align: middle;\n    }\n\n    .dataframe tbody tr th {\n        vertical-align: top;\n    }\n\n    .dataframe thead th {\n        text-align: right;\n    }\n</style>\n<table border=\"1\" class=\"dataframe\">\n  <thead>\n    <tr style=\"text-align: right;\">\n      <th></th>\n      <th>Name</th>\n      <th>Historical Significance</th>\n      <th>Gender</th>\n      <th>Birthdate</th>\n      <th>Deathdate</th>\n      <th>ID</th>\n    </tr>\n  </thead>\n  <tbody>\n    <tr>\n      <th>0</th>\n      <td>Joseph Wyeth</td>\n      <td>religious writer</td>\n      <td>male</td>\n      <td>1663</td>\n      <td>1731</td>\n      <td>10013191</td>\n    </tr>\n    <tr>\n      <th>1</th>\n      <td>Alexander Skene of Newtyle</td>\n      <td>local politician and author</td>\n      <td>male</td>\n      <td>1621</td>\n      <td>1694</td>\n      <td>10011149</td>\n    </tr>\n    <tr>\n      <th>2</th>\n      <td>James Logan</td>\n      <td>colonial official and scholar</td>\n      <td>male</td>\n      <td>1674</td>\n      <td>1751</td>\n      <td>10007567</td>\n    </tr>\n    <tr>\n      <th>3</th>\n      <td>Dorcas Erbery</td>\n      <td>Quaker preacher</td>\n      <td>female</td>\n      <td>1656</td>\n      <td>1659</td>\n      <td>10003983</td>\n    </tr>\n    <tr>\n      <th>4</th>\n      <td>Lilias Skene</td>\n      <td>Quaker preacher and poet</td>\n      <td>male</td>\n      <td>1626</td>\n      <td>1697</td>\n      <td>10011152</td>\n    </tr>\n  </tbody>\n</table>\n</div>"
     },
     "execution_count": 2,
     "metadata": {},
     "output_type": "execute_result"
    }
   ],
   "source": [
    "nodelist = pd.read_csv('resources/quakers_nodelist.csv')\n",
    "nodelist.head()"
   ],
   "metadata": {
    "collapsed": false,
    "pycharm": {
     "name": "#%%\n"
    }
   }
  },
  {
   "cell_type": "code",
   "execution_count": 3,
   "outputs": [
    {
     "data": {
      "text/plain": "         Birthdate    Deathdate            ID\ncount   119.000000   119.000000  1.190000e+02\nmean   1631.327731  1700.268908  1.000708e+07\nstd      31.661373    30.829410  6.039569e+03\nmin    1551.000000  1656.000000  1.000010e+07\n25%    1618.000000  1678.500000  1.000289e+07\n50%    1630.000000  1696.000000  1.000678e+07\n75%    1651.000000  1717.000000  1.001057e+07\nmax    1699.000000  1777.000000  1.005485e+07",
      "text/html": "<div>\n<style scoped>\n    .dataframe tbody tr th:only-of-type {\n        vertical-align: middle;\n    }\n\n    .dataframe tbody tr th {\n        vertical-align: top;\n    }\n\n    .dataframe thead th {\n        text-align: right;\n    }\n</style>\n<table border=\"1\" class=\"dataframe\">\n  <thead>\n    <tr style=\"text-align: right;\">\n      <th></th>\n      <th>Birthdate</th>\n      <th>Deathdate</th>\n      <th>ID</th>\n    </tr>\n  </thead>\n  <tbody>\n    <tr>\n      <th>count</th>\n      <td>119.000000</td>\n      <td>119.000000</td>\n      <td>1.190000e+02</td>\n    </tr>\n    <tr>\n      <th>mean</th>\n      <td>1631.327731</td>\n      <td>1700.268908</td>\n      <td>1.000708e+07</td>\n    </tr>\n    <tr>\n      <th>std</th>\n      <td>31.661373</td>\n      <td>30.829410</td>\n      <td>6.039569e+03</td>\n    </tr>\n    <tr>\n      <th>min</th>\n      <td>1551.000000</td>\n      <td>1656.000000</td>\n      <td>1.000010e+07</td>\n    </tr>\n    <tr>\n      <th>25%</th>\n      <td>1618.000000</td>\n      <td>1678.500000</td>\n      <td>1.000289e+07</td>\n    </tr>\n    <tr>\n      <th>50%</th>\n      <td>1630.000000</td>\n      <td>1696.000000</td>\n      <td>1.000678e+07</td>\n    </tr>\n    <tr>\n      <th>75%</th>\n      <td>1651.000000</td>\n      <td>1717.000000</td>\n      <td>1.001057e+07</td>\n    </tr>\n    <tr>\n      <th>max</th>\n      <td>1699.000000</td>\n      <td>1777.000000</td>\n      <td>1.005485e+07</td>\n    </tr>\n  </tbody>\n</table>\n</div>"
     },
     "execution_count": 3,
     "metadata": {},
     "output_type": "execute_result"
    }
   ],
   "source": [
    "nodelist.describe()"
   ],
   "metadata": {
    "collapsed": false,
    "pycharm": {
     "name": "#%%\n"
    }
   }
  },
  {
   "cell_type": "code",
   "execution_count": 4,
   "outputs": [],
   "source": [
    "# Edge List"
   ],
   "metadata": {
    "collapsed": false,
    "pycharm": {
     "name": "#%%\n"
    }
   }
  },
  {
   "cell_type": "code",
   "execution_count": 5,
   "outputs": [
    {
     "data": {
      "text/plain": "         Source                                         Target\n0  George Keith                                 Robert Barclay\n1  George Keith                                 Benjamin Furly\n2  George Keith  Anne Conway Viscountess Conway and Killultagh\n3  George Keith               Franciscus Mercurius van Helmont\n4  George Keith                                   William Penn",
      "text/html": "<div>\n<style scoped>\n    .dataframe tbody tr th:only-of-type {\n        vertical-align: middle;\n    }\n\n    .dataframe tbody tr th {\n        vertical-align: top;\n    }\n\n    .dataframe thead th {\n        text-align: right;\n    }\n</style>\n<table border=\"1\" class=\"dataframe\">\n  <thead>\n    <tr style=\"text-align: right;\">\n      <th></th>\n      <th>Source</th>\n      <th>Target</th>\n    </tr>\n  </thead>\n  <tbody>\n    <tr>\n      <th>0</th>\n      <td>George Keith</td>\n      <td>Robert Barclay</td>\n    </tr>\n    <tr>\n      <th>1</th>\n      <td>George Keith</td>\n      <td>Benjamin Furly</td>\n    </tr>\n    <tr>\n      <th>2</th>\n      <td>George Keith</td>\n      <td>Anne Conway Viscountess Conway and Killultagh</td>\n    </tr>\n    <tr>\n      <th>3</th>\n      <td>George Keith</td>\n      <td>Franciscus Mercurius van Helmont</td>\n    </tr>\n    <tr>\n      <th>4</th>\n      <td>George Keith</td>\n      <td>William Penn</td>\n    </tr>\n  </tbody>\n</table>\n</div>"
     },
     "execution_count": 5,
     "metadata": {},
     "output_type": "execute_result"
    }
   ],
   "source": [
    "edgelist = pd.read_csv('resources/quakers_edgelist.csv')\n",
    "edgelist.head()"
   ],
   "metadata": {
    "collapsed": false,
    "pycharm": {
     "name": "#%%\n"
    }
   }
  },
  {
   "cell_type": "code",
   "execution_count": 6,
   "outputs": [
    {
     "data": {
      "text/plain": "            Source        Target\ncount          174           174\nunique          78            77\ntop     George Fox  William Penn\nfreq            17            11",
      "text/html": "<div>\n<style scoped>\n    .dataframe tbody tr th:only-of-type {\n        vertical-align: middle;\n    }\n\n    .dataframe tbody tr th {\n        vertical-align: top;\n    }\n\n    .dataframe thead th {\n        text-align: right;\n    }\n</style>\n<table border=\"1\" class=\"dataframe\">\n  <thead>\n    <tr style=\"text-align: right;\">\n      <th></th>\n      <th>Source</th>\n      <th>Target</th>\n    </tr>\n  </thead>\n  <tbody>\n    <tr>\n      <th>count</th>\n      <td>174</td>\n      <td>174</td>\n    </tr>\n    <tr>\n      <th>unique</th>\n      <td>78</td>\n      <td>77</td>\n    </tr>\n    <tr>\n      <th>top</th>\n      <td>George Fox</td>\n      <td>William Penn</td>\n    </tr>\n    <tr>\n      <th>freq</th>\n      <td>17</td>\n      <td>11</td>\n    </tr>\n  </tbody>\n</table>\n</div>"
     },
     "execution_count": 6,
     "metadata": {},
     "output_type": "execute_result"
    }
   ],
   "source": [
    "edgelist.describe()"
   ],
   "metadata": {
    "collapsed": false,
    "pycharm": {
     "name": "#%%\n"
    }
   }
  },
  {
   "cell_type": "code",
   "execution_count": null,
   "outputs": [],
   "source": [],
   "metadata": {
    "collapsed": false,
    "pycharm": {
     "name": "#%%\n"
    }
   }
  }
 ],
 "metadata": {
  "kernelspec": {
   "display_name": "Python 3",
   "language": "python",
   "name": "python3"
  },
  "language_info": {
   "codemirror_mode": {
    "name": "ipython",
    "version": 2
   },
   "file_extension": ".py",
   "mimetype": "text/x-python",
   "name": "python",
   "nbconvert_exporter": "python",
   "pygments_lexer": "ipython2",
   "version": "2.7.6"
  }
 },
 "nbformat": 4,
 "nbformat_minor": 0
}